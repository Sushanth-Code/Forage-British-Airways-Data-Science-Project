{
 "cells": [
  {
   "cell_type": "code",
   "execution_count": 1,
   "id": "b415e3eb",
   "metadata": {},
   "outputs": [
    {
     "name": "stderr",
     "output_type": "stream",
     "text": [
      "C:\\Users\\91808\\Anaconda3\\lib\\site-packages\\scipy\\__init__.py:155: UserWarning: A NumPy version >=1.18.5 and <1.25.0 is required for this version of SciPy (detected version 1.26.3\n",
      "  warnings.warn(f\"A NumPy version >={np_minversion} and <{np_maxversion}\"\n"
     ]
    }
   ],
   "source": [
    "#imports\n",
    "\n",
    "import requests #used for scrapping the website\n",
    "import numpy as np\n",
    "from bs4 import BeautifulSoup # used to scrap the website\n",
    "import pandas as pd\n",
    "import string #NLP\n",
    "import matplotlib.pyplot as plt\n",
    "import seaborn as sns"
   ]
  },
  {
   "cell_type": "code",
   "execution_count": 2,
   "id": "f85baabc",
   "metadata": {},
   "outputs": [
    {
     "name": "stdout",
     "output_type": "stream",
     "text": [
      "Scrapping page1\n",
      " ------> 100 total reviews\n",
      "Scrapping page2\n",
      " ------> 200 total reviews\n",
      "Scrapping page3\n",
      " ------> 300 total reviews\n",
      "Scrapping page4\n",
      " ------> 400 total reviews\n",
      "Scrapping page5\n",
      " ------> 500 total reviews\n",
      "Scrapping page6\n",
      " ------> 600 total reviews\n",
      "Scrapping page7\n",
      " ------> 700 total reviews\n",
      "Scrapping page8\n",
      " ------> 800 total reviews\n",
      "Scrapping page9\n",
      " ------> 900 total reviews\n",
      "Scrapping page10\n",
      " ------> 1000 total reviews\n",
      "Scrapping page11\n",
      " ------> 1100 total reviews\n",
      "Scrapping page12\n",
      " ------> 1200 total reviews\n",
      "Scrapping page13\n",
      " ------> 1300 total reviews\n",
      "Scrapping page14\n",
      " ------> 1400 total reviews\n",
      "Scrapping page15\n",
      " ------> 1500 total reviews\n",
      "Scrapping page16\n",
      " ------> 1600 total reviews\n",
      "Scrapping page17\n",
      " ------> 1700 total reviews\n",
      "Scrapping page18\n",
      " ------> 1800 total reviews\n",
      "Scrapping page19\n",
      " ------> 1900 total reviews\n",
      "Scrapping page20\n",
      " ------> 2000 total reviews\n",
      "Scrapping page21\n",
      " ------> 2100 total reviews\n",
      "Scrapping page22\n",
      " ------> 2200 total reviews\n",
      "Scrapping page23\n",
      " ------> 2300 total reviews\n",
      "Scrapping page24\n",
      " ------> 2400 total reviews\n",
      "Scrapping page25\n",
      " ------> 2500 total reviews\n",
      "Scrapping page26\n",
      " ------> 2600 total reviews\n",
      "Scrapping page27\n",
      " ------> 2700 total reviews\n",
      "Scrapping page28\n",
      " ------> 2800 total reviews\n",
      "Scrapping page29\n",
      " ------> 2900 total reviews\n",
      "Scrapping page30\n",
      " ------> 3000 total reviews\n",
      "Scrapping page31\n",
      " ------> 3100 total reviews\n",
      "Scrapping page32\n",
      " ------> 3200 total reviews\n",
      "Scrapping page33\n",
      " ------> 3300 total reviews\n",
      "Scrapping page34\n",
      " ------> 3400 total reviews\n",
      "Scrapping page35\n",
      " ------> 3500 total reviews\n",
      "Scrapping page36\n",
      " ------> 3600 total reviews\n",
      "Scrapping page37\n",
      " ------> 3700 total reviews\n"
     ]
    }
   ],
   "source": [
    "base_url=\"https://www.airlinequality.com/airline-reviews/british-airways\"\n",
    "pages=37\n",
    "page_size=100\n",
    "\n",
    "reviews=[]\n",
    "\n",
    "for i in range(1,pages+1):\n",
    "    print(f\"Scrapping page{i}\")\n",
    "    \n",
    "    #create URL to Collect links from paginated data\n",
    "    url=f\"{base_url}/page{i}/?sortby=post_date%3ADesc&pagesize={page_size}\"\n",
    "    \n",
    "    #collect HTML data from this page\n",
    "    response=requests.get(url)\n",
    "    \n",
    "    #parse content\n",
    "    content=response.content\n",
    "    parsed_content=BeautifulSoup(content, 'html.parser')\n",
    "    for para in parsed_content.find_all(\"div\",{\"class\":\"text_content\"}):\n",
    "        reviews.append(para.get_text())\n",
    "        \n",
    "    print(f\" ------> {len(reviews)} total reviews\")\n",
    "    \n",
    "df=pd.DataFrame()\n",
    "df[\"reviews\"]=reviews\n",
    "df\n",
    "df.to_csv(\"BA_reviews.csv\")\n",
    "    \n",
    "    "
   ]
  },
  {
   "cell_type": "code",
   "execution_count": 3,
   "id": "5ca62e3c",
   "metadata": {},
   "outputs": [
    {
     "data": {
      "text/plain": [
       "0       ✅ Trip Verified |  Check in fast and friendly....\n",
       "1       ✅ Trip Verified |  This is the first time I ha...\n",
       "2       ✅ Trip Verified |  Flew business class from Do...\n",
       "3       ✅ Trip Verified |  Starting off at Heathrow Te...\n",
       "4       Not Verified |  We have flown this route with ...\n",
       "                              ...                        \n",
       "3695    LHR to BOS. Day after baggage shut down but Fi...\n",
       "3696    LHR-ARN. All the procedures at Heathrow termin...\n",
       "3697    LGW to AMS. Easy check-in at Gatwick with the ...\n",
       "3698    I really do not have the energy to write very ...\n",
       "3699    Flew in Club World for the first time on the n...\n",
       "Name: reviews, Length: 3700, dtype: object"
      ]
     },
     "execution_count": 3,
     "metadata": {},
     "output_type": "execute_result"
    }
   ],
   "source": [
    "#Read Dataset\n",
    "reviews=pd.read_csv(\"BA_reviews.csv\")\n",
    "reviews=reviews.pop('reviews')\n",
    "reviews"
   ]
  },
  {
   "cell_type": "code",
   "execution_count": 4,
   "id": "d0308f23",
   "metadata": {},
   "outputs": [
    {
     "data": {
      "text/plain": [
       "3700"
      ]
     },
     "execution_count": 4,
     "metadata": {},
     "output_type": "execute_result"
    }
   ],
   "source": [
    "#check the length of total reviews extracted\n",
    "len(reviews)"
   ]
  },
  {
   "cell_type": "code",
   "execution_count": 7,
   "id": "7cfdb029",
   "metadata": {},
   "outputs": [
    {
     "name": "stderr",
     "output_type": "stream",
     "text": [
      "C:\\Users\\91808\\AppData\\Local\\Temp\\ipykernel_11856\\3456266699.py:8: FutureWarning: The default value of regex will change from True to False in a future version.\n",
      "  reviews=reviews.str.replace('Trip Verified |', '')\n",
      "C:\\Users\\91808\\AppData\\Local\\Temp\\ipykernel_11856\\3456266699.py:10: FutureWarning: The default value of regex will change from True to False in a future version. In addition, single character regular expressions will *not* be treated as literal strings when regex=True.\n",
      "  reviews=reviews.str.replace('|','')\n",
      "C:\\Users\\91808\\AppData\\Local\\Temp\\ipykernel_11856\\3456266699.py:11: FutureWarning: The default value of regex will change from True to False in a future version.\n",
      "  reviews=reviews.str.replace(r'\\b(\\w{1,3})\\b','')\n"
     ]
    },
    {
     "data": {
      "text/plain": [
       "0         Check  fast  friendly Security  breeze Loung...\n",
       "1         This   first time  have seen   Club World su...\n",
       "2         Flew business class from Doha  London  31st ...\n",
       "3         Starting   Heathrow Terminal  Check   fairly...\n",
       "4        Verified    have flown this route with EasyJe...\n",
       "                              ...                        \n",
       "3695        after baggage shut down  First check  easy...\n",
       "3696       procedures  Heathrow terminal  were  breeze...\n",
       "3697       Easy check  Gatwick with  pods  check   pri...\n",
       "3698     really   have  energy  write very detail     ...\n",
       "3699    Flew  Club World   first time     A380s  disap...\n",
       "Name: reviews, Length: 3700, dtype: object"
      ]
     },
     "execution_count": 7,
     "metadata": {},
     "output_type": "execute_result"
    }
   ],
   "source": [
    "#Clean Text\n",
    "\n",
    "def remove_punctuations(text):\n",
    "    for punctuation in string.punctuation:\n",
    "        text=text.replace(punctuation,'')\n",
    "    return text\n",
    "\n",
    "reviews=reviews.str.replace('Trip Verified |', '')\n",
    "reviews=reviews.str.replace('✅ ','')\n",
    "reviews=reviews.str.replace('|','')\n",
    "reviews=reviews.str.replace(r'\\b(\\w{1,3})\\b','')\n",
    "reviews=reviews.apply(remove_punctuations)\n",
    "reviews"
   ]
  },
  {
   "cell_type": "code",
   "execution_count": 8,
   "id": "4b82e0bf",
   "metadata": {},
   "outputs": [
    {
     "data": {
      "text/plain": [
       "(3700,)"
      ]
     },
     "execution_count": 8,
     "metadata": {},
     "output_type": "execute_result"
    }
   ],
   "source": [
    "reviews.shape"
   ]
  },
  {
   "cell_type": "code",
   "execution_count": 9,
   "id": "a8c8fdfa",
   "metadata": {},
   "outputs": [
    {
     "data": {
      "text/plain": [
       "flight        6677\n",
       "with          5931\n",
       "were          4499\n",
       "that          4438\n",
       "they          3691\n",
       "this          3589\n",
       "have          3373\n",
       "from          3124\n",
       "very          2814\n",
       "service       2799\n",
       "seat          2366\n",
       "food          2327\n",
       "airways       2142\n",
       "crew          2140\n",
       "british       2138\n",
       "london        2112\n",
       "seats         2093\n",
       "good          2064\n",
       "time          2062\n",
       "cabin         1970\n",
       "class         1917\n",
       "which         1914\n",
       "there         1796\n",
       "business      1607\n",
       "when          1596\n",
       "staff         1563\n",
       "would         1517\n",
       "heathrow      1507\n",
       "only          1492\n",
       "their         1480\n",
       "economy       1417\n",
       "first         1275\n",
       "check         1266\n",
       "after         1262\n",
       "flights       1177\n",
       "more          1151\n",
       "been          1132\n",
       "return        1104\n",
       "just          1100\n",
       "other         1095\n",
       "than          1072\n",
       "club          1071\n",
       "hours         1069\n",
       "back          1066\n",
       "plane         1039\n",
       "passengers    1022\n",
       "boarding      1018\n",
       "airline       1018\n",
       "lounge        1006\n",
       "even          1003\n",
       "dtype: int64"
      ]
     },
     "execution_count": 9,
     "metadata": {},
     "output_type": "execute_result"
    }
   ],
   "source": [
    "#print 50 most commonly used words\n",
    "freq_words=pd.Series(''.join(reviews).lower().split()).value_counts()[:50]\n",
    "freq_words"
   ]
  },
  {
   "cell_type": "code",
   "execution_count": 10,
   "id": "5aea474f",
   "metadata": {},
   "outputs": [
    {
     "data": {
      "image/png": "[encoded data removed]",
      "text/plain": [
       "<Figure size 1000x1000 with 1 Axes>"
      ]
     },
     "metadata": {},
     "output_type": "display_data"
    }
   ],
   "source": [
    "#plot graph of 50 commonly used words\n",
    "plt.figure(figsize=(10,10))\n",
    "freq_words.plot.barh(x=freq_words[0],y=freq_words[1])\n",
    "plt.show()\n"
   ]
  },
  {
   "cell_type": "code",
   "execution_count": 11,
   "id": "9d499995",
   "metadata": {},
   "outputs": [
    {
     "data": {
      "text/plain": [
       "2"
      ]
     },
     "execution_count": 11,
     "metadata": {},
     "output_type": "execute_result"
    }
   ],
   "source": [
    "#Text Clustering\n",
    "categories=['negative','positive']\n",
    "num_cat=len(categories)\n",
    "num_cat"
   ]
  },
  {
   "cell_type": "code",
   "execution_count": 15,
   "id": "f13ee52a",
   "metadata": {},
   "outputs": [
    {
     "data": {
      "text/plain": [
       "(3700, 12977)"
      ]
     },
     "execution_count": 15,
     "metadata": {},
     "output_type": "execute_result"
    }
   ],
   "source": [
    "#TF=IDF Feature Generation\n",
    "from sklearn.feature_extraction.text import TfidfVectorizer\n",
    "from nltk.tokenize import RegexpTokenizer\n",
    "\n",
    "# Initialize regex tokenizer\n",
    "tokenizer = RegexpTokenizer(r'\\w+')\n",
    "\n",
    "# Vectorize document using TF-IDF\n",
    "tf_idf_vect = TfidfVectorizer(lowercase=True, stop_words='english', ngram_range=(1, 1), tokenizer=tokenizer.tokenize)\n",
    "\n",
    "# Fit and transform Text Data\n",
    "reviews_counts = tf_idf_vect.fit_transform(reviews)\n",
    "\n",
    "# Check Shape of Count Vector\n",
    "(reviews_counts.shape)\n",
    "\n",
    "\n"
   ]
  },
  {
   "cell_type": "code",
   "execution_count": 20,
   "id": "5c4dd7d2",
   "metadata": {},
   "outputs": [
    {
     "data": {
      "text/plain": [
       "array([1, 1, 1, ..., 0, 0, 1])"
      ]
     },
     "execution_count": 20,
     "metadata": {},
     "output_type": "execute_result"
    }
   ],
   "source": [
    "#import KMeans Model\n",
    "from sklearn.cluster import KMeans\n",
    "\n",
    "#create Kmeans Object and fit it to the training data\n",
    "kmeans=KMeans(n_clusters=num_cat).fit(reviews_counts)\n",
    "\n",
    "#get the labels using Kmeans\n",
    "pred_labels=kmeans.labels_\n",
    "pred_labels"
   ]
  },
  {
   "cell_type": "code",
   "execution_count": 21,
   "id": "992ab5a3",
   "metadata": {},
   "outputs": [
    {
     "data": {
      "text/plain": [
       "array([[1.86932858e-04, 1.20681046e-04, 0.00000000e+00, ...,\n",
       "        0.00000000e+00, 0.00000000e+00, 6.18658740e-05],\n",
       "       [0.00000000e+00, 0.00000000e+00, 6.65570571e-05, ...,\n",
       "        1.60008798e-04, 6.46224435e-05, 0.00000000e+00]])"
      ]
     },
     "execution_count": 21,
     "metadata": {},
     "output_type": "execute_result"
    }
   ],
   "source": [
    "clusters_centres=kmeans.cluster_centers_\n",
    "clusters_centres"
   ]
  },
  {
   "cell_type": "code",
   "execution_count": 22,
   "id": "34b8ed6d",
   "metadata": {},
   "outputs": [
    {
     "data": {
      "text/plain": [
       "{0: 1479, 1: 2221}"
      ]
     },
     "execution_count": 22,
     "metadata": {},
     "output_type": "execute_result"
    }
   ],
   "source": [
    "unique,counts=np.unique(pred_labels,return_counts=True)\n",
    "dict(zip(unique,counts))"
   ]
  },
  {
   "cell_type": "code",
   "execution_count": 25,
   "id": "0a887f94",
   "metadata": {},
   "outputs": [
    {
     "name": "stdout",
     "output_type": "stream",
     "text": [
      "DBI Score: 12.358936415902907 \n",
      "Silhouette Score: 0.0068353684626375815\n"
     ]
    }
   ],
   "source": [
    "from sklearn import metrics\n",
    "\n",
    "# Assuming reviews_counts is your data\n",
    "# Compute DBI Score\n",
    "dbi = metrics.davies_bouldin_score(reviews_counts.toarray(), pred_labels)\n",
    "\n",
    "# Compute Silhouette Score\n",
    "ss = metrics.silhouette_score(reviews_counts.toarray(), pred_labels, metric=\"euclidean\")\n",
    "\n",
    "# Print the DBI and Silhouette scores\n",
    "print(\"DBI Score:\", dbi, \"\\nSilhouette Score:\", ss)\n"
   ]
  },
  {
   "cell_type": "code",
   "execution_count": 26,
   "id": "3f4ebf0f",
   "metadata": {},
   "outputs": [
    {
     "data": {
      "text/html": [
       "<div>\n",
       "<style scoped>\n",
       "    .dataframe tbody tr th:only-of-type {\n",
       "        vertical-align: middle;\n",
       "    }\n",
       "\n",
       "    .dataframe tbody tr th {\n",
       "        vertical-align: top;\n",
       "    }\n",
       "\n",
       "    .dataframe thead th {\n",
       "        text-align: right;\n",
       "    }\n",
       "</style>\n",
       "<table border=\"1\" class=\"dataframe\">\n",
       "  <thead>\n",
       "    <tr style=\"text-align: right;\">\n",
       "      <th></th>\n",
       "      <th>review</th>\n",
       "      <th>label</th>\n",
       "    </tr>\n",
       "  </thead>\n",
       "  <tbody>\n",
       "    <tr>\n",
       "      <th>0</th>\n",
       "      <td>Check  fast  friendly Security  breeze Loung...</td>\n",
       "      <td>1</td>\n",
       "    </tr>\n",
       "    <tr>\n",
       "      <th>1</th>\n",
       "      <td>This   first time  have seen   Club World su...</td>\n",
       "      <td>1</td>\n",
       "    </tr>\n",
       "    <tr>\n",
       "      <th>2</th>\n",
       "      <td>Flew business class from Doha  London  31st ...</td>\n",
       "      <td>1</td>\n",
       "    </tr>\n",
       "    <tr>\n",
       "      <th>3</th>\n",
       "      <td>Starting   Heathrow Terminal  Check   fairly...</td>\n",
       "      <td>1</td>\n",
       "    </tr>\n",
       "    <tr>\n",
       "      <th>4</th>\n",
       "      <td>Verified    have flown this route with EasyJe...</td>\n",
       "      <td>0</td>\n",
       "    </tr>\n",
       "    <tr>\n",
       "      <th>...</th>\n",
       "      <td>...</td>\n",
       "      <td>...</td>\n",
       "    </tr>\n",
       "    <tr>\n",
       "      <th>3695</th>\n",
       "      <td>after baggage shut down  First check  easy...</td>\n",
       "      <td>1</td>\n",
       "    </tr>\n",
       "    <tr>\n",
       "      <th>3696</th>\n",
       "      <td>procedures  Heathrow terminal  were  breeze...</td>\n",
       "      <td>1</td>\n",
       "    </tr>\n",
       "    <tr>\n",
       "      <th>3697</th>\n",
       "      <td>Easy check  Gatwick with  pods  check   pri...</td>\n",
       "      <td>0</td>\n",
       "    </tr>\n",
       "    <tr>\n",
       "      <th>3698</th>\n",
       "      <td>really   have  energy  write very detail     ...</td>\n",
       "      <td>0</td>\n",
       "    </tr>\n",
       "    <tr>\n",
       "      <th>3699</th>\n",
       "      <td>Flew  Club World   first time     A380s  disap...</td>\n",
       "      <td>1</td>\n",
       "    </tr>\n",
       "  </tbody>\n",
       "</table>\n",
       "<p>3700 rows × 2 columns</p>\n",
       "</div>"
      ],
      "text/plain": [
       "                                                 review  label\n",
       "0       Check  fast  friendly Security  breeze Loung...      1\n",
       "1       This   first time  have seen   Club World su...      1\n",
       "2       Flew business class from Doha  London  31st ...      1\n",
       "3       Starting   Heathrow Terminal  Check   fairly...      1\n",
       "4      Verified    have flown this route with EasyJe...      0\n",
       "...                                                 ...    ...\n",
       "3695      after baggage shut down  First check  easy...      1\n",
       "3696     procedures  Heathrow terminal  were  breeze...      1\n",
       "3697     Easy check  Gatwick with  pods  check   pri...      0\n",
       "3698   really   have  energy  write very detail     ...      0\n",
       "3699  Flew  Club World   first time     A380s  disap...      1\n",
       "\n",
       "[3700 rows x 2 columns]"
      ]
     },
     "execution_count": 26,
     "metadata": {},
     "output_type": "execute_result"
    }
   ],
   "source": [
    "df_reviews=pd.DataFrame({'review':reviews,'label':pred_labels})\n",
    "df_reviews"
   ]
  },
  {
   "cell_type": "code",
   "execution_count": 27,
   "id": "a72b3ee1",
   "metadata": {},
   "outputs": [
    {
     "data": {
      "text/plain": [
       "<seaborn.axisgrid.FacetGrid at 0x207af85c3d0>"
      ]
     },
     "execution_count": 27,
     "metadata": {},
     "output_type": "execute_result"
    },
    {
     "data": {
      "image/png": "[encoded data removed]",
      "text/plain": [
       "<Figure size 500x500 with 1 Axes>"
      ]
     },
     "metadata": {},
     "output_type": "display_data"
    }
   ],
   "source": [
    "sns.displot(df_reviews['label'],kde=True)"
   ]
  },
  {
   "cell_type": "code",
   "execution_count": 28,
   "id": "a8902de9",
   "metadata": {},
   "outputs": [
    {
     "data": {
      "text/html": [
       "<div>\n",
       "<style scoped>\n",
       "    .dataframe tbody tr th:only-of-type {\n",
       "        vertical-align: middle;\n",
       "    }\n",
       "\n",
       "    .dataframe tbody tr th {\n",
       "        vertical-align: top;\n",
       "    }\n",
       "\n",
       "    .dataframe thead th {\n",
       "        text-align: right;\n",
       "    }\n",
       "</style>\n",
       "<table border=\"1\" class=\"dataframe\">\n",
       "  <thead>\n",
       "    <tr style=\"text-align: right;\">\n",
       "      <th></th>\n",
       "      <th>review</th>\n",
       "      <th>label</th>\n",
       "    </tr>\n",
       "  </thead>\n",
       "  <tbody>\n",
       "    <tr>\n",
       "      <th>0</th>\n",
       "      <td>Check  fast  friendly Security  breeze Loung...</td>\n",
       "      <td>1</td>\n",
       "    </tr>\n",
       "    <tr>\n",
       "      <th>1</th>\n",
       "      <td>This   first time  have seen   Club World su...</td>\n",
       "      <td>1</td>\n",
       "    </tr>\n",
       "    <tr>\n",
       "      <th>2</th>\n",
       "      <td>Flew business class from Doha  London  31st ...</td>\n",
       "      <td>1</td>\n",
       "    </tr>\n",
       "    <tr>\n",
       "      <th>3</th>\n",
       "      <td>Starting   Heathrow Terminal  Check   fairly...</td>\n",
       "      <td>1</td>\n",
       "    </tr>\n",
       "    <tr>\n",
       "      <th>5</th>\n",
       "      <td>last minute business trip    route  regularl...</td>\n",
       "      <td>1</td>\n",
       "    </tr>\n",
       "    <tr>\n",
       "      <th>...</th>\n",
       "      <td>...</td>\n",
       "      <td>...</td>\n",
       "    </tr>\n",
       "    <tr>\n",
       "      <th>3689</th>\n",
       "      <td>travelled Club Europe from Gatwick  Paphos   ...</td>\n",
       "      <td>1</td>\n",
       "    </tr>\n",
       "    <tr>\n",
       "      <th>3690</th>\n",
       "      <td>outbound  June Check   lounge good  normal   ...</td>\n",
       "      <td>1</td>\n",
       "    </tr>\n",
       "    <tr>\n",
       "      <th>3695</th>\n",
       "      <td>after baggage shut down  First check  easy...</td>\n",
       "      <td>1</td>\n",
       "    </tr>\n",
       "    <tr>\n",
       "      <th>3696</th>\n",
       "      <td>procedures  Heathrow terminal  were  breeze...</td>\n",
       "      <td>1</td>\n",
       "    </tr>\n",
       "    <tr>\n",
       "      <th>3699</th>\n",
       "      <td>Flew  Club World   first time     A380s  disap...</td>\n",
       "      <td>1</td>\n",
       "    </tr>\n",
       "  </tbody>\n",
       "</table>\n",
       "<p>2221 rows × 2 columns</p>\n",
       "</div>"
      ],
      "text/plain": [
       "                                                 review  label\n",
       "0       Check  fast  friendly Security  breeze Loung...      1\n",
       "1       This   first time  have seen   Club World su...      1\n",
       "2       Flew business class from Doha  London  31st ...      1\n",
       "3       Starting   Heathrow Terminal  Check   fairly...      1\n",
       "5       last minute business trip    route  regularl...      1\n",
       "...                                                 ...    ...\n",
       "3689   travelled Club Europe from Gatwick  Paphos   ...      1\n",
       "3690   outbound  June Check   lounge good  normal   ...      1\n",
       "3695      after baggage shut down  First check  easy...      1\n",
       "3696     procedures  Heathrow terminal  were  breeze...      1\n",
       "3699  Flew  Club World   first time     A380s  disap...      1\n",
       "\n",
       "[2221 rows x 2 columns]"
      ]
     },
     "execution_count": 28,
     "metadata": {},
     "output_type": "execute_result"
    }
   ],
   "source": [
    "positive_review=df_reviews[df_reviews['label']==1]\n",
    "positive_review"
   ]
  },
  {
   "cell_type": "code",
   "execution_count": 29,
   "id": "c24d9261",
   "metadata": {},
   "outputs": [
    {
     "data": {
      "text/html": [
       "<div>\n",
       "<style scoped>\n",
       "    .dataframe tbody tr th:only-of-type {\n",
       "        vertical-align: middle;\n",
       "    }\n",
       "\n",
       "    .dataframe tbody tr th {\n",
       "        vertical-align: top;\n",
       "    }\n",
       "\n",
       "    .dataframe thead th {\n",
       "        text-align: right;\n",
       "    }\n",
       "</style>\n",
       "<table border=\"1\" class=\"dataframe\">\n",
       "  <thead>\n",
       "    <tr style=\"text-align: right;\">\n",
       "      <th></th>\n",
       "      <th>review</th>\n",
       "      <th>label</th>\n",
       "    </tr>\n",
       "  </thead>\n",
       "  <tbody>\n",
       "    <tr>\n",
       "      <th>4</th>\n",
       "      <td>Verified    have flown this route with EasyJe...</td>\n",
       "      <td>0</td>\n",
       "    </tr>\n",
       "    <tr>\n",
       "      <th>6</th>\n",
       "      <td>Overall  would  disappointing    status   l...</td>\n",
       "      <td>0</td>\n",
       "    </tr>\n",
       "    <tr>\n",
       "      <th>9</th>\n",
       "      <td>told    take hand luggage onto  plane   over...</td>\n",
       "      <td>0</td>\n",
       "    </tr>\n",
       "    <tr>\n",
       "      <th>10</th>\n",
       "      <td>Verified    flight  comfortable enough  with ...</td>\n",
       "      <td>0</td>\n",
       "    </tr>\n",
       "    <tr>\n",
       "      <th>12</th>\n",
       "      <td>Waited  hour  check   Paphos business check ...</td>\n",
       "      <td>0</td>\n",
       "    </tr>\n",
       "    <tr>\n",
       "      <th>...</th>\n",
       "      <td>...</td>\n",
       "      <td>...</td>\n",
       "    </tr>\n",
       "    <tr>\n",
       "      <th>3692</th>\n",
       "      <td>Travelling from Venice  London Gatwick with Br...</td>\n",
       "      <td>0</td>\n",
       "    </tr>\n",
       "    <tr>\n",
       "      <th>3693</th>\n",
       "      <td>A319 Online check didn start working until ...</td>\n",
       "      <td>0</td>\n",
       "    </tr>\n",
       "    <tr>\n",
       "      <th>3694</th>\n",
       "      <td>Business   Hard  find much good   about this...</td>\n",
       "      <td>0</td>\n",
       "    </tr>\n",
       "    <tr>\n",
       "      <th>3697</th>\n",
       "      <td>Easy check  Gatwick with  pods  check   pri...</td>\n",
       "      <td>0</td>\n",
       "    </tr>\n",
       "    <tr>\n",
       "      <th>3698</th>\n",
       "      <td>really   have  energy  write very detail     ...</td>\n",
       "      <td>0</td>\n",
       "    </tr>\n",
       "  </tbody>\n",
       "</table>\n",
       "<p>1479 rows × 2 columns</p>\n",
       "</div>"
      ],
      "text/plain": [
       "                                                 review  label\n",
       "4      Verified    have flown this route with EasyJe...      0\n",
       "6        Overall  would  disappointing    status   l...      0\n",
       "9       told    take hand luggage onto  plane   over...      0\n",
       "10     Verified    flight  comfortable enough  with ...      0\n",
       "12      Waited  hour  check   Paphos business check ...      0\n",
       "...                                                 ...    ...\n",
       "3692  Travelling from Venice  London Gatwick with Br...      0\n",
       "3693     A319 Online check didn start working until ...      0\n",
       "3694    Business   Hard  find much good   about this...      0\n",
       "3697     Easy check  Gatwick with  pods  check   pri...      0\n",
       "3698   really   have  energy  write very detail     ...      0\n",
       "\n",
       "[1479 rows x 2 columns]"
      ]
     },
     "execution_count": 29,
     "metadata": {},
     "output_type": "execute_result"
    }
   ],
   "source": [
    "negative_review=df_reviews[df_reviews['label']==0]\n",
    "negative_review"
   ]
  },
  {
   "cell_type": "code",
   "execution_count": null,
   "id": "47187d88",
   "metadata": {},
   "outputs": [],
   "source": []
  }
 ],
 "metadata": {
  "kernelspec": {
   "display_name": "Python 3 (ipykernel)",
   "language": "python",
   "name": "python3"
  },
  "language_info": {
   "codemirror_mode": {
    "name": "ipython",
    "version": 3
   },
   "file_extension": ".py",
   "mimetype": "text/x-python",
   "name": "python",
   "nbconvert_exporter": "python",
   "pygments_lexer": "ipython3",
   "version": "3.9.13"
  }
 },
 "nbformat": 4,
 "nbformat_minor": 5
}
